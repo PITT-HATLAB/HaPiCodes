{
 "cells": [
  {
   "cell_type": "code",
   "execution_count": 2,
   "metadata": {},
   "outputs": [
    {
     "name": "stdout",
     "output_type": "stream",
     "text": [
      "/home/hatlab/QutipSimulation/HaPiCodes/HaPiCodes/test_examples\n"
     ]
    }
   ],
   "source": [
    "%cd /home/hatlab/QutipSimulation/HaPiCodes/HaPiCodes/test_examples"
   ]
  },
  {
   "cell_type": "markdown",
   "metadata": {},
   "source": [
    "# hatlab-tower"
   ]
  },
  {
   "cell_type": "code",
   "execution_count": 1,
   "metadata": {},
   "outputs": [
    {
     "name": "stdout",
     "output_type": "stream",
     "text": [
      "10.0%. Run time:  28.12s. Est. time left: 00:00:04:13\n",
      "20.0%. Run time:  55.18s. Est. time left: 00:00:03:40\n",
      "30.0%. Run time:  82.32s. Est. time left: 00:00:03:12\n",
      "40.0%. Run time: 109.17s. Est. time left: 00:00:02:43\n",
      "50.0%. Run time: 135.37s. Est. time left: 00:00:02:15\n",
      "60.0%. Run time: 162.41s. Est. time left: 00:00:01:48\n",
      "70.0%. Run time: 189.09s. Est. time left: 00:00:01:21\n",
      "80.0%. Run time: 216.02s. Est. time left: 00:00:00:54\n",
      "90.0%. Run time: 242.79s. Est. time left: 00:00:00:26\n",
      "100.0%. Run time: 270.16s. Est. time left: 00:00:00:00\n",
      "Total run time: 270.20s\n",
      "The rotation angle is 0.0 pi\n",
      "Pi pulse amp is  0.1288587669123244 V\n",
      "The Excited State DAC is 1.01\n",
      "The Ground State DAC is 0.01\n",
      "info successly stored\n",
      "4min 31s ± 0 ns per loop (mean ± std. dev. of 1 run, 1 loop each)\n"
     ]
    }
   ],
   "source": [
    "%timeit -n1 -r1 %run S001_piPulseTuneUp.py "
   ]
  },
  {
   "cell_type": "code",
   "execution_count": 6,
   "metadata": {},
   "outputs": [
    {
     "name": "stdout",
     "output_type": "stream",
     "text": [
      "Options:\n",
      "-----------\n",
      "atol:              1e-08\n",
      "rtol:              1e-06\n",
      "method:            adams\n",
      "order:             12\n",
      "nsteps:            1000\n",
      "first_step:        0\n",
      "min_step:          0\n",
      "max_step:          0\n",
      "tidy:              True\n",
      "num_cpus:          12\n",
      "norm_tol:          0.001\n",
      "norm_steps:        5\n",
      "rhs_filename:      None\n",
      "rhs_reuse:         False\n",
      "seeds:             0\n",
      "rhs_with_state:    False\n",
      "average_expect:    True\n",
      "average_states:    False\n",
      "ntraj:             500\n",
      "store_states:      False\n",
      "store_final_state: False\n",
      "\n"
     ]
    }
   ],
   "source": [
    "from qutip.solver import Options\n",
    "options = Options()\n",
    "print(options)"
   ]
  }
 ],
 "metadata": {
  "kernelspec": {
   "display_name": "Python 3",
   "language": "python",
   "name": "python3"
  }
 },
 "nbformat": 4,
 "nbformat_minor": 4
}
